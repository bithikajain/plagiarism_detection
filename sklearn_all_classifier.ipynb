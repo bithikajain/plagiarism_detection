{
 "cells": [
  {
   "cell_type": "code",
   "execution_count": 70,
   "metadata": {
    "ExecuteTime": {
     "end_time": "2020-01-08T05:48:41.900381Z",
     "start_time": "2020-01-08T05:48:41.891651Z"
    }
   },
   "outputs": [],
   "source": [
    "import pandas as pd\n",
    "import numpy as np\n",
    "import os\n",
    "\n",
    "import matplotlib.pyplot as plt\n",
    "from matplotlib.colors import ListedColormap\n",
    "from sklearn.model_selection import train_test_split\n",
    "from sklearn.preprocessing import StandardScaler\n",
    "from sklearn.datasets import make_moons, make_circles, make_classification\n",
    "from sklearn.neural_network import MLPClassifier\n",
    "from sklearn.neighbors import KNeighborsClassifier\n",
    "from sklearn.svm import SVC\n",
    "from sklearn.gaussian_process import GaussianProcessClassifier\n",
    "from sklearn.gaussian_process.kernels import RBF\n",
    "from sklearn.tree import DecisionTreeClassifier\n",
    "from sklearn.ensemble import RandomForestClassifier, AdaBoostClassifier\n",
    "from sklearn.naive_bayes import GaussianNB\n",
    "from sklearn.discriminant_analysis import QuadraticDiscriminantAnalysis\n",
    "from sklearn.svm import LinearSVC"
   ]
  },
  {
   "cell_type": "code",
   "execution_count": 72,
   "metadata": {
    "ExecuteTime": {
     "end_time": "2020-01-08T05:48:47.207235Z",
     "start_time": "2020-01-08T05:48:47.188502Z"
    }
   },
   "outputs": [],
   "source": [
    "h = .02  # step size in the mesh\n",
    "\n",
    "names = [\"Nearest Neighbors\", \"Linear SVC\", \"Linear SVM\", \"RBF SVM\", \"Gaussian Process\",\n",
    "         \"Decision Tree\", \"Random Forest\", \"Neural Net\", \"AdaBoost\",\n",
    "         \"Naive Bayes\", \"QDA\"]\n",
    "\n",
    "classifiers = [\n",
    "    KNeighborsClassifier(3),\n",
    "    LinearSVC(),\n",
    "    SVC(kernel=\"linear\", C=1),#0.025\n",
    "    SVC(gamma=2, C=1),\n",
    "    GaussianProcessClassifier(1.0 * RBF(1.0)),\n",
    "    DecisionTreeClassifier(max_depth=1),\n",
    "    RandomForestClassifier(max_depth=5, n_estimators=10, max_features=3),\n",
    "    MLPClassifier(alpha=0.001, max_iter=1000),\n",
    "    AdaBoostClassifier(),\n",
    "    GaussianNB(),\n",
    "    QuadraticDiscriminantAnalysis()]"
   ]
  },
  {
   "cell_type": "code",
   "execution_count": 73,
   "metadata": {
    "ExecuteTime": {
     "end_time": "2020-01-08T05:48:49.761684Z",
     "start_time": "2020-01-08T05:48:49.750434Z"
    }
   },
   "outputs": [],
   "source": [
    "classifiers_by_name = {names[i]:classifiers[i] for i in range(len(names))}"
   ]
  },
  {
   "cell_type": "code",
   "execution_count": 74,
   "metadata": {
    "ExecuteTime": {
     "end_time": "2020-01-08T05:48:50.115956Z",
     "start_time": "2020-01-08T05:48:50.113804Z"
    }
   },
   "outputs": [],
   "source": [
    "data_dir = 'plagiarism_data'"
   ]
  },
  {
   "cell_type": "code",
   "execution_count": 75,
   "metadata": {
    "ExecuteTime": {
     "end_time": "2020-01-08T05:48:50.555540Z",
     "start_time": "2020-01-08T05:48:50.548301Z"
    }
   },
   "outputs": [],
   "source": [
    "\n",
    "# read in test data, assuming it is stored locally\n",
    "train_data = pd.read_csv(os.path.join(data_dir, \"train.csv\"), header=None, names=None)\n",
    "\n",
    "# labels are in the first column\n",
    "train_y = train_data.iloc[:,0]\n",
    "train_x = train_data.iloc[:,1:]\n",
    "\n",
    "\n",
    "# read in test data, assuming it is stored locally\n",
    "test_data = pd.read_csv(os.path.join(data_dir, \"test.csv\"), header=None, names=None)\n",
    "\n",
    "# labels are in the first column\n",
    "test_y = test_data.iloc[:,0]\n",
    "test_x = test_data.iloc[:,1:]"
   ]
  },
  {
   "cell_type": "code",
   "execution_count": 80,
   "metadata": {
    "ExecuteTime": {
     "end_time": "2020-01-08T06:18:45.474654Z",
     "start_time": "2020-01-08T06:18:45.461032Z"
    }
   },
   "outputs": [
    {
     "data": {
      "text/plain": [
       "70"
      ]
     },
     "execution_count": 80,
     "metadata": {},
     "output_type": "execute_result"
    }
   ],
   "source": [
    "len(train_y.values)"
   ]
  },
  {
   "cell_type": "code",
   "execution_count": 77,
   "metadata": {
    "ExecuteTime": {
     "end_time": "2020-01-08T05:48:52.098261Z",
     "start_time": "2020-01-08T05:48:52.093521Z"
    }
   },
   "outputs": [
    {
     "data": {
      "text/plain": [
       "<Figure size 1944x648 with 0 Axes>"
      ]
     },
     "metadata": {},
     "output_type": "display_data"
    }
   ],
   "source": [
    "figure = plt.figure(figsize=(27, 9))\n",
    "i = 1"
   ]
  },
  {
   "cell_type": "code",
   "execution_count": 78,
   "metadata": {
    "ExecuteTime": {
     "end_time": "2020-01-08T05:48:53.066753Z",
     "start_time": "2020-01-08T05:48:52.556710Z"
    },
    "scrolled": false
   },
   "outputs": [
    {
     "name": "stdout",
     "output_type": "stream",
     "text": [
      "Nearest Neighbors 0.92\n",
      "Nearest Neighbors\n",
      "prediction (col)  0   1\n",
      "actual (row)           \n",
      "0                 8   2\n",
      "1                 0  15\n",
      "\n",
      "Recall:     1.000\n",
      "Precision:  0.882\n",
      "Accuracy:   0.920\n",
      "\n",
      "Linear SVC 1.0\n",
      "Linear SVC\n",
      "prediction (col)   0   1\n",
      "actual (row)            \n",
      "0                 10   0\n",
      "1                  0  15\n",
      "\n",
      "Recall:     1.000\n",
      "Precision:  1.000\n",
      "Accuracy:   1.000\n",
      "\n",
      "Linear SVM 0.96\n",
      "Linear SVM\n",
      "prediction (col)   0   1\n",
      "actual (row)            \n",
      "0                 10   0\n",
      "1                  1  14\n",
      "\n",
      "Recall:     0.933\n",
      "Precision:  1.000\n",
      "Accuracy:   0.960\n",
      "\n",
      "RBF SVM 0.96\n",
      "RBF SVM\n",
      "prediction (col)   0   1\n",
      "actual (row)            \n",
      "0                 10   0\n",
      "1                  1  14\n",
      "\n",
      "Recall:     0.933\n",
      "Precision:  1.000\n",
      "Accuracy:   0.960\n",
      "\n",
      "Gaussian Process 1.0\n",
      "Gaussian Process\n",
      "prediction (col)   0   1\n",
      "actual (row)            \n",
      "0                 10   0\n",
      "1                  0  15\n",
      "\n",
      "Recall:     1.000\n",
      "Precision:  1.000\n",
      "Accuracy:   1.000\n",
      "\n",
      "Decision Tree 0.96\n",
      "Decision Tree\n",
      "prediction (col)  0   1\n",
      "actual (row)           \n",
      "0                 9   1\n",
      "1                 0  15\n",
      "\n",
      "Recall:     1.000\n",
      "Precision:  0.938\n",
      "Accuracy:   0.960\n",
      "\n",
      "Random Forest 0.88\n",
      "Random Forest\n",
      "prediction (col)  0   1\n",
      "actual (row)           \n",
      "0                 7   3\n",
      "1                 0  15\n",
      "\n",
      "Recall:     1.000\n",
      "Precision:  0.833\n",
      "Accuracy:   0.880\n",
      "\n",
      "Neural Net 1.0\n",
      "Neural Net\n",
      "prediction (col)   0   1\n",
      "actual (row)            \n",
      "0                 10   0\n",
      "1                  0  15\n",
      "\n",
      "Recall:     1.000\n",
      "Precision:  1.000\n",
      "Accuracy:   1.000\n",
      "\n",
      "AdaBoost 0.88\n",
      "AdaBoost\n",
      "prediction (col)  0   1\n",
      "actual (row)           \n",
      "0                 7   3\n",
      "1                 0  15\n",
      "\n",
      "Recall:     1.000\n",
      "Precision:  0.833\n",
      "Accuracy:   0.880\n",
      "\n",
      "Naive Bayes 0.92\n",
      "Naive Bayes\n",
      "prediction (col)   0   1\n",
      "actual (row)            \n",
      "0                 10   0\n",
      "1                  2  13\n",
      "\n",
      "Recall:     0.867\n",
      "Precision:  1.000\n",
      "Accuracy:   0.920\n",
      "\n",
      "QDA 0.4\n",
      "QDA\n",
      "prediction (col)   0\n",
      "actual (row)        \n",
      "0                 10\n",
      "1                 15\n",
      "\n",
      "Recall:     0.000\n",
      "Precision:  nan\n",
      "Accuracy:   0.400\n",
      "\n"
     ]
    },
    {
     "name": "stderr",
     "output_type": "stream",
     "text": [
      "/home/bithika/local/anaconda3/lib/python3.7/site-packages/sklearn/discriminant_analysis.py:693: UserWarning: Variables are collinear\n",
      "  warnings.warn(\"Variables are collinear\")\n",
      "/home/bithika/local/anaconda3/lib/python3.7/site-packages/sklearn/discriminant_analysis.py:717: RuntimeWarning: divide by zero encountered in power\n",
      "  X2 = np.dot(Xm, R * (S ** (-0.5)))\n",
      "/home/bithika/local/anaconda3/lib/python3.7/site-packages/sklearn/discriminant_analysis.py:717: RuntimeWarning: invalid value encountered in multiply\n",
      "  X2 = np.dot(Xm, R * (S ** (-0.5)))\n",
      "/home/bithika/local/anaconda3/lib/python3.7/site-packages/sklearn/discriminant_analysis.py:720: RuntimeWarning: divide by zero encountered in log\n",
      "  u = np.asarray([np.sum(np.log(s)) for s in self.scalings_])\n",
      "/home/bithika/local/anaconda3/lib/python3.7/site-packages/sklearn/discriminant_analysis.py:717: RuntimeWarning: divide by zero encountered in power\n",
      "  X2 = np.dot(Xm, R * (S ** (-0.5)))\n",
      "/home/bithika/local/anaconda3/lib/python3.7/site-packages/sklearn/discriminant_analysis.py:717: RuntimeWarning: invalid value encountered in multiply\n",
      "  X2 = np.dot(Xm, R * (S ** (-0.5)))\n",
      "/home/bithika/local/anaconda3/lib/python3.7/site-packages/sklearn/discriminant_analysis.py:720: RuntimeWarning: divide by zero encountered in log\n",
      "  u = np.asarray([np.sum(np.log(s)) for s in self.scalings_])\n",
      "/home/bithika/local/anaconda3/lib/python3.7/site-packages/ipykernel_launcher.py:17: RuntimeWarning: invalid value encountered in long_scalars\n"
     ]
    }
   ],
   "source": [
    "for name, clf in zip(names, classifiers):\n",
    "        clf.fit(train_x, train_y)\n",
    "        score = clf.score(test_x, test_y)\n",
    "        print(name,  score)\n",
    "        \n",
    "        # rounding and squeezing array\n",
    "        test_preds = np.squeeze(np.round(clf.predict(test_x)))\n",
    "    \n",
    "        # calculate true positives, false positives, true negatives, false negatives\n",
    "        tp = np.logical_and(test_y, test_preds).sum()\n",
    "        fp = np.logical_and(1-test_y, test_preds).sum()\n",
    "        tn = np.logical_and(1-test_y, 1-test_preds).sum()\n",
    "        fn = np.logical_and(test_y, 1-test_preds).sum()\n",
    "    \n",
    "        # calculate binary classification metrics\n",
    "        recall = tp / (tp + fn)\n",
    "        precision = tp / (tp + fp)\n",
    "        accuracy = (tp + tn) / (tp + fp + tn + fn)\n",
    "    \n",
    "        # printing a table of metrics\n",
    "        print(name)\n",
    "        print(pd.crosstab(test_y, test_preds, rownames=['actual (row)'], colnames=['prediction (col)']))\n",
    "        print(\"\\n{:<11} {:.3f}\".format('Recall:', recall))\n",
    "        print(\"{:<11} {:.3f}\".format('Precision:', precision))\n",
    "        print(\"{:<11} {:.3f}\".format('Accuracy:', accuracy))\n",
    "        print()\n",
    "        \n"
   ]
  },
  {
   "cell_type": "code",
   "execution_count": null,
   "metadata": {},
   "outputs": [],
   "source": []
  },
  {
   "cell_type": "code",
   "execution_count": null,
   "metadata": {},
   "outputs": [],
   "source": []
  },
  {
   "cell_type": "code",
   "execution_count": null,
   "metadata": {},
   "outputs": [],
   "source": []
  },
  {
   "cell_type": "code",
   "execution_count": null,
   "metadata": {},
   "outputs": [],
   "source": []
  },
  {
   "cell_type": "code",
   "execution_count": null,
   "metadata": {},
   "outputs": [],
   "source": []
  },
  {
   "cell_type": "code",
   "execution_count": null,
   "metadata": {},
   "outputs": [],
   "source": []
  },
  {
   "cell_type": "code",
   "execution_count": null,
   "metadata": {},
   "outputs": [],
   "source": []
  },
  {
   "cell_type": "code",
   "execution_count": null,
   "metadata": {},
   "outputs": [],
   "source": []
  }
 ],
 "metadata": {
  "kernelspec": {
   "display_name": "Python 3",
   "language": "python",
   "name": "python3"
  },
  "language_info": {
   "codemirror_mode": {
    "name": "ipython",
    "version": 3
   },
   "file_extension": ".py",
   "mimetype": "text/x-python",
   "name": "python",
   "nbconvert_exporter": "python",
   "pygments_lexer": "ipython3",
   "version": "3.7.4"
  }
 },
 "nbformat": 4,
 "nbformat_minor": 2
}
